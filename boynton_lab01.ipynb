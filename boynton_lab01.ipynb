{
 "cells": [
  {
   "cell_type": "markdown",
   "metadata": {},
   "source": [
    " # Insertion Sort\n",
    "\n",
    " Rock Boynton | CS 3851\n",
    "\n",
    " ## Introduction\n",
    "\n",
    "\n",
    "\n",
    " ## Summary of Results\n",
    "\n",
    "\n",
    "\n",
    " --"
   ]
  },
  {
   "cell_type": "code",
   "execution_count": 6,
   "metadata": {},
   "outputs": [],
   "source": [
    "import sorting\n",
    "\n",
    "import random\n",
    "import time \n",
    "import numpy as np\n",
    "import matplotlib.pyplot as plt\n",
    "\n",
    "\n",
    "def benchmark(case):\n",
    "    total_time_avgs = []\n",
    "    numbers = [100, 1000, 10000, 100000]\n",
    "    n_trials = 10\n",
    "    for n in numbers:\n",
    "        times = []\n",
    "        for i in range(n_trials):\n",
    "            lst = [random.random() for j in range(n)]\n",
    "            if case == 'random':\n",
    "                random.shuffle(lst)\n",
    "            elif case == 'sorted':\n",
    "                pass\n",
    "                list.sort(lst)\n",
    "            elif case == 'reverse sorted':\n",
    "                list.sort(lst)\n",
    "                list.reverse(lst)\n",
    "            start = time.clock()\n",
    "            sorting.insertion_sort(lst)\n",
    "            end = time.clock()\n",
    "            elapsed = end - start\n",
    "            times.append(elapsed)\n",
    "        total_time_avgs.append(np.mean(times))\n",
    "    plt.plot(np.log10(numbers), total_time_avgs, label=f'Insertion Sort ({case.capitalize()})')\n",
    "    plt.xlabel('List Size (log10)', fontsize=18)\n",
    "    plt.ylabel('Running Time (s)', fontsize=18)\n",
    "    plt.legend()\n",
    "\n",
    "benchmark(case='random')\n",
    "benchmark(case='sorted')\n",
    "benchmark(case='reverse sorted')\n",
    "\n",
    "\n"
   ]
  },
  {
   "cell_type": "code",
   "execution_count": null,
   "metadata": {},
   "outputs": [],
   "source": []
  }
 ],
 "metadata": {
  "kernelspec": {
   "display_name": "Python 3.7.4 64-bit ('base': conda)",
   "language": "python",
   "name": "python37464bitbaseconda32b04c9e2a3b40a4a549c2ff9baea20b"
  },
  "language_info": {
   "codemirror_mode": {
    "name": "ipython",
    "version": 3
   },
   "file_extension": ".py",
   "mimetype": "text/x-python",
   "name": "python",
   "nbconvert_exporter": "python",
   "pygments_lexer": "ipython3",
   "version": "3.7.4-final"
  }
 },
 "nbformat": 4,
 "nbformat_minor": 2
}